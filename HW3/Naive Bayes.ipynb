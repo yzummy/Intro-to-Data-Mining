{
 "cells": [
  {
   "cell_type": "code",
   "execution_count": 21,
   "metadata": {},
   "outputs": [],
   "source": [
    "import pandas as pd\n",
    "import numpy as np\n",
    "from sklearn import preprocessing\n",
    "import sklearn.metrics as metrics\n",
    "from sklearn.naive_bayes import MultinomialNB\n",
    "from sklearn.naive_bayes import GaussianNB"
   ]
  },
  {
   "cell_type": "code",
   "execution_count": 27,
   "metadata": {},
   "outputs": [
    {
     "name": "stdout",
     "output_type": "stream",
     "text": [
      "Test results with Naive Bayes Classification Model:\n",
      "True results: [1 0 1 1 1 1 1 1 1 0 1 0]\n",
      "Predicted results:[1 0 1 1 1 0 0 1 1 0 1 0]\n",
      "Accuracy:  0.8333333333333334\n",
      "Precision:  1.0\n",
      "Recall:  0.7777777777777778\n",
      "F1:  0.8750000000000001\n"
     ]
    }
   ],
   "source": [
    "# Read in dataset\n",
    "train = pd.read_csv('q5_train.csv')\n",
    "test = pd.read_csv('q5_test.csv')\n",
    "true_labels = list(test[\"Label\"])\n",
    "\n",
    "# Get feature names and label name\n",
    "features= list(train)[1:-1]\n",
    "Label = list(train)[-1]\n",
    "train_X = []\n",
    "test_X = []\n",
    "\n",
    "# transform the values of the attributes and labels\n",
    "le = [preprocessing.LabelEncoder().fit(list(train[features[i]])) for i in range(len(features))]\n",
    "for i, row in train[features].iterrows():\n",
    "    train_X.append([le[j].transform([list(row)[j]])[0] for j in range(len(list(row)))])\n",
    "for i, row in test[features].iterrows():\n",
    "    test_X.append([le[j].transform([list(row)[j]])[0] for j in range(len(list(row)))])\n",
    "y = list(train[Label])\n",
    "le = preprocessing.LabelEncoder().fit(y)\n",
    "y = le.transform(y)\n",
    "true_labels = le.transform(true_labels)\n",
    "\n",
    "\n",
    "# Build naive Bayes model\n",
    "clf = GaussianNB()\n",
    "clf.fit(np.array(train_X), y)\n",
    "predicted_NB = clf.predict(test_X)\n",
    "\n",
    "# Output prediction Results\n",
    "print(\"Test results with Naive Bayes Classification Model:\")\n",
    "print(\"True results: {}\\nPredicted results:{}\".format(true_labels, predicted_NB))\n",
    "print(\"Accuracy: \", metrics.accuracy_score(true_labels, predicted_NB))\n",
    "print(\"Precision: \", metrics.precision_score(true_labels, predicted_NB))\n",
    "print(\"Recall: \", metrics.recall_score(true_labels, predicted_NB))\n",
    "print(\"F1: \", metrics.f1_score(true_labels, predicted_NB))"
   ]
  }
 ],
 "metadata": {
  "kernelspec": {
   "display_name": "Python 3",
   "language": "python",
   "name": "python3"
  },
  "language_info": {
   "codemirror_mode": {
    "name": "ipython",
    "version": 3
   },
   "file_extension": ".py",
   "mimetype": "text/x-python",
   "name": "python",
   "nbconvert_exporter": "python",
   "pygments_lexer": "ipython3",
   "version": "3.6.5"
  }
 },
 "nbformat": 4,
 "nbformat_minor": 2
}
